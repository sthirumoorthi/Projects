{
 "cells": [
  {
   "cell_type": "markdown",
   "id": "2e93e2ab",
   "metadata": {},
   "source": [
    "## Definition"
   ]
  },
  {
   "cell_type": "markdown",
   "id": "b192c787",
   "metadata": {},
   "source": [
    " - A dictionary is an <b>ordered* and mutable </b> Python container that stores mappings of <b>unique keys to values</b>.\n",
    " - As of Python version 3.7, dictionaries are ordered. In Python 3.6 and earlier, dictionaries are unordered.\n",
    " - Dictionaries are written with **curly brackets ({})**, including key-value pairs separated by commas (,)"
   ]
  },
  {
   "cell_type": "markdown",
   "id": "83f9b103",
   "metadata": {},
   "source": [
    "**Lists and Dictionaries - Similarities**\n",
    "\n",
    "1. Both are mutable.\n",
    "2. Both are dynamic. They can grow and shrink as needed\n",
    "3. Both can be nested. A list can contain another list. A dictionary can contain another dictionary. A dictionary can also contain a list, and vice versa."
   ]
  },
  {
   "cell_type": "markdown",
   "id": "dc0a0b9d",
   "metadata": {},
   "source": [
    "**Lists and Dictionaries - Differences**\n",
    "1. List elements are accessed by their position in the list, via indexing.\n",
    "2. Dictionary elements are accessed via keys."
   ]
  },
  {
   "cell_type": "markdown",
   "id": "1bb46604",
   "metadata": {},
   "source": [
    "### Creation of Dictionaries"
   ]
  },
  {
   "cell_type": "code",
   "execution_count": 10,
   "id": "97b7e554",
   "metadata": {},
   "outputs": [
    {
     "name": "stdout",
     "output_type": "stream",
     "text": [
      "{'Name': 'Nihith', 'Age': 4, 'Class': 'LKG'}\n"
     ]
    }
   ],
   "source": [
    "# Use Dict constructor to create new dictionary\n",
    "\n",
    "this_dict = dict([\n",
    "    (\"Name\", \"Nihith\"),\n",
    "    (\"Age\", 4),\n",
    "    (\"Class\", \"LKG\")\n",
    "])\n",
    "print(this_dict)"
   ]
  },
  {
   "cell_type": "code",
   "execution_count": 11,
   "id": "9bc1de18",
   "metadata": {},
   "outputs": [
    {
     "name": "stdout",
     "output_type": "stream",
     "text": [
      "{'Name': 'Thiru', 'Age': 34, 'Qual': 'MCA'}\n"
     ]
    }
   ],
   "source": [
    "# Use curly braces to create dictionary\n",
    "\n",
    "my_dict = {\n",
    "    \"Name\":\"Thiru\",\n",
    "    \"Age\": 34,\n",
    "    \"Qual\": \"MCA\"\n",
    "}\n",
    "print(my_dict)"
   ]
  },
  {
   "cell_type": "code",
   "execution_count": 12,
   "id": "7d50be2f",
   "metadata": {},
   "outputs": [
    {
     "name": "stdout",
     "output_type": "stream",
     "text": [
      "{}\n"
     ]
    }
   ],
   "source": [
    "# Empty tuple\n",
    "empty_dict = {}\n",
    "print(empty_dict)"
   ]
  },
  {
   "cell_type": "markdown",
   "id": "edc859bc",
   "metadata": {},
   "source": [
    "### Updation of dictionaries"
   ]
  },
  {
   "cell_type": "code",
   "execution_count": 13,
   "id": "0ad64253",
   "metadata": {
    "scrolled": true
   },
   "outputs": [
    {
     "name": "stdout",
     "output_type": "stream",
     "text": [
      "{'Name': 'Thiru', 'Age': 34, 'Qual': 'MCA'}\n",
      "{'Name': 'Thiru', 'Age': 33, 'Qual': 'MCA'}\n"
     ]
    }
   ],
   "source": [
    "my_dict = {\n",
    "    \"Name\":\"Thiru\",\n",
    "    \"Age\": 34,\n",
    "    \"Qual\": \"MCA\"\n",
    "}\n",
    "print(my_dict)\n",
    "\n",
    "my_dict[\"Age\"] = 33\n",
    "print(my_dict)"
   ]
  },
  {
   "cell_type": "markdown",
   "id": "e62a378b",
   "metadata": {},
   "source": [
    "### Remove dictionary elements"
   ]
  },
  {
   "cell_type": "code",
   "execution_count": 15,
   "id": "df3f88ef",
   "metadata": {},
   "outputs": [
    {
     "name": "stdout",
     "output_type": "stream",
     "text": [
      "{'Name': 'Thiru', 'Age': 34, 'Qual': 'MCA'}\n",
      "{'Age': 34, 'Qual': 'MCA'}\n",
      "{}\n"
     ]
    }
   ],
   "source": [
    "my_dict = {\n",
    "    \"Name\":\"Thiru\",\n",
    "    \"Age\": 34,\n",
    "    \"Qual\": \"MCA\"\n",
    "}\n",
    "print(my_dict)\n",
    "\n",
    "del my_dict[\"Name\"]    # remove entry with key \"Name\"\n",
    "print(my_dict)\n",
    "\n",
    "my_dict.clear()        # remove all entries in my_dict\n",
    "print(my_dict)"
   ]
  },
  {
   "cell_type": "markdown",
   "id": "b2e24729",
   "metadata": {},
   "source": [
    "The entire dictionary can be removed or deleted using **del** keyword"
   ]
  },
  {
   "cell_type": "code",
   "execution_count": 16,
   "id": "45eb821f",
   "metadata": {},
   "outputs": [],
   "source": [
    "del my_dict"
   ]
  },
  {
   "cell_type": "markdown",
   "id": "03a5af0b",
   "metadata": {},
   "source": [
    "### Building a Dictionary Incrementally"
   ]
  },
  {
   "cell_type": "code",
   "execution_count": 20,
   "id": "83240501",
   "metadata": {},
   "outputs": [
    {
     "name": "stdout",
     "output_type": "stream",
     "text": [
      "{'fname': 'Thirumoorthi', 'lname': 'Samiappan', 'age': 34, 'spouse': 'Kirthi', 'children': ['Suhiti', 'Nihith'], 'pets': {'dog': 'Fido', 'cat': 'Sox'}}\n"
     ]
    }
   ],
   "source": [
    "person = {}\n",
    "\n",
    "person['fname'] = 'Thirumoorthi'\n",
    "person['lname'] = 'Samiappan'\n",
    "person['age'] = 34\n",
    "person['spouse'] = 'Kirthi'\n",
    "person['children'] = ['Suhiti','Nihith']\n",
    "person['pets'] = {'dog': 'Fido', 'cat': 'Sox'}\n",
    "print(person)"
   ]
  },
  {
   "cell_type": "markdown",
   "id": "1945108b",
   "metadata": {},
   "source": [
    "### Accessing the dictionaries"
   ]
  },
  {
   "cell_type": "code",
   "execution_count": 21,
   "id": "73fff9a0",
   "metadata": {},
   "outputs": [
    {
     "name": "stdout",
     "output_type": "stream",
     "text": [
      "Thirumoorthi\n",
      "['Suhiti', 'Nihith']\n"
     ]
    }
   ],
   "source": [
    "print(person['fname'])\n",
    "print(person['children'])"
   ]
  },
  {
   "cell_type": "code",
   "execution_count": 22,
   "id": "44501273",
   "metadata": {},
   "outputs": [
    {
     "name": "stdout",
     "output_type": "stream",
     "text": [
      "Nihith\n",
      "Sox\n"
     ]
    }
   ],
   "source": [
    "# Retrieving the values in the sublist or subdictionary requires an additional index or key:\n",
    "print(person['children'][-1])\n",
    "\n",
    "print(person['pets']['cat'])"
   ]
  },
  {
   "cell_type": "markdown",
   "id": "964311c1",
   "metadata": {},
   "source": [
    "### Restrictions on Dictionary Keys"
   ]
  },
  {
   "cell_type": "code",
   "execution_count": 23,
   "id": "3df6e97c",
   "metadata": {},
   "outputs": [
    {
     "name": "stdout",
     "output_type": "stream",
     "text": [
      "{42: 'aaa', 2.78: 'bbb', True: 'ccc'}\n"
     ]
    }
   ],
   "source": [
    "# Almost any type of value can be used as a dictionary key in Python. \n",
    "# Just as the values in a dictionary don’t need to be of the same type, the keys don’t either: \n",
    "# (keys can be any type)\n",
    "\n",
    "my_dict = {42: 'aaa', 2.78: 'bbb', True: 'ccc'}\n",
    "print(my_dict)"
   ]
  },
  {
   "cell_type": "code",
   "execution_count": 25,
   "id": "a6221230",
   "metadata": {},
   "outputs": [
    {
     "name": "stdout",
     "output_type": "stream",
     "text": [
      "{<class 'int'>: 1, <class 'float'>: 2, <class 'bool'>: 3}\n",
      "1\n"
     ]
    }
   ],
   "source": [
    "# We can even use built-in objects like types and functions:\n",
    "\n",
    "new_dict = {int: 1, float: 2, bool: 3}\n",
    "print(new_dict)\n",
    "print(new_dict[int])"
   ]
  },
  {
   "cell_type": "code",
   "execution_count": 26,
   "id": "97b5e0f5",
   "metadata": {},
   "outputs": [
    {
     "name": "stdout",
     "output_type": "stream",
     "text": [
      "{<built-in function bin>: 1, <built-in function hex>: 2, <built-in function oct>: 3}\n",
      "2\n"
     ]
    }
   ],
   "source": [
    "new_dict = {bin: 1, hex: 2, oct: 3}\n",
    "print(new_dict)\n",
    "print(new_dict[hex])"
   ]
  },
  {
   "cell_type": "code",
   "execution_count": 27,
   "id": "f5a4b959",
   "metadata": {},
   "outputs": [
    {
     "ename": "TypeError",
     "evalue": "unhashable type: 'list'",
     "output_type": "error",
     "traceback": [
      "\u001b[1;31m---------------------------------------------------------------------------\u001b[0m",
      "\u001b[1;31mTypeError\u001b[0m                                 Traceback (most recent call last)",
      "\u001b[1;32m<ipython-input-27-4fd609ed19a4>\u001b[0m in \u001b[0;36m<module>\u001b[1;34m\u001b[0m\n\u001b[0;32m      1\u001b[0m \u001b[1;31m# Neither a list nor another dictionary can serve as a dictionary key, because lists and dictionaries are mutable:\u001b[0m\u001b[1;33m\u001b[0m\u001b[1;33m\u001b[0m\u001b[1;33m\u001b[0m\u001b[0m\n\u001b[0;32m      2\u001b[0m \u001b[1;33m\u001b[0m\u001b[0m\n\u001b[1;32m----> 3\u001b[1;33m \u001b[0mdict1\u001b[0m \u001b[1;33m=\u001b[0m \u001b[1;33m{\u001b[0m\u001b[1;33m[\u001b[0m\u001b[1;36m1\u001b[0m\u001b[1;33m,\u001b[0m \u001b[1;36m1\u001b[0m\u001b[1;33m]\u001b[0m\u001b[1;33m:\u001b[0m \u001b[1;34m'a'\u001b[0m\u001b[1;33m,\u001b[0m \u001b[1;33m[\u001b[0m\u001b[1;36m1\u001b[0m\u001b[1;33m,\u001b[0m \u001b[1;36m2\u001b[0m\u001b[1;33m]\u001b[0m\u001b[1;33m:\u001b[0m \u001b[1;34m'b'\u001b[0m\u001b[1;33m,\u001b[0m \u001b[1;33m[\u001b[0m\u001b[1;36m2\u001b[0m\u001b[1;33m,\u001b[0m \u001b[1;36m1\u001b[0m\u001b[1;33m]\u001b[0m\u001b[1;33m:\u001b[0m \u001b[1;34m'c'\u001b[0m\u001b[1;33m,\u001b[0m \u001b[1;33m[\u001b[0m\u001b[1;36m2\u001b[0m\u001b[1;33m,\u001b[0m \u001b[1;36m2\u001b[0m\u001b[1;33m]\u001b[0m\u001b[1;33m:\u001b[0m \u001b[1;34m'd'\u001b[0m\u001b[1;33m}\u001b[0m\u001b[1;33m\u001b[0m\u001b[1;33m\u001b[0m\u001b[0m\n\u001b[0m",
      "\u001b[1;31mTypeError\u001b[0m: unhashable type: 'list'"
     ]
    }
   ],
   "source": [
    "# Neither a list nor another dictionary can serve as a dictionary key, because lists and dictionaries are mutable:\n",
    "\n",
    "dict1 = {[1, 1]: 'a', [1, 2]: 'b', [2, 1]: 'c', [2, 2]: 'd'}"
   ]
  },
  {
   "cell_type": "markdown",
   "id": "b896741a",
   "metadata": {},
   "source": [
    "#### Restrictions\n",
    "\n",
    "1. A given key can appear in a dictionary only once. Duplicate keys are not allowed\n",
    "2. If we specify a key second time during the initial creation of a dictionary, the second occurrence will override the first\n",
    "3. A dictionary key must be of a type that is immutable."
   ]
  },
  {
   "cell_type": "markdown",
   "id": "21d377b6",
   "metadata": {},
   "source": [
    "## Operations on Dictionaries"
   ]
  },
  {
   "cell_type": "markdown",
   "id": "070792d2",
   "metadata": {},
   "source": [
    "- Length\n",
    "- Concatenation (+)\n",
    "- get()\n",
    "- Membership (in / not in)\n",
    "- d.items()\n",
    "- Maximum\n",
    "- Minimum\n",
    "- Index\n",
    "- Count\n",
    "- Conversion to tuples"
   ]
  },
  {
   "cell_type": "code",
   "execution_count": 28,
   "id": "e4363486",
   "metadata": {},
   "outputs": [
    {
     "name": "stdout",
     "output_type": "stream",
     "text": [
      "{42: 'aaa', 2.78: 'bbb', True: 'ccc'}\n",
      "Length of my tuple is 3\n"
     ]
    }
   ],
   "source": [
    "# to find length of tuple\n",
    "print(my_dict)\n",
    "print(f\"Length of my tuple is {len(my_dict)}\")"
   ]
  },
  {
   "cell_type": "code",
   "execution_count": 29,
   "id": "bd8b8345",
   "metadata": {},
   "outputs": [
    {
     "name": "stdout",
     "output_type": "stream",
     "text": [
      "{'a': 1, 'b': 3, 'c': 4}\n"
     ]
    }
   ],
   "source": [
    "# Concatenation\n",
    "x = {'a': 1, 'b': 5}\n",
    "y = {'b': 3, 'c': 4}\n",
    "\n",
    "z = {**x, **y}   # Unpack operator to concatenate multiple dictionaries (Python 3.5+)\n",
    "# z = x | y      # Merge operator would also does the same (Python 3.9+)\n",
    "print(z)"
   ]
  },
  {
   "cell_type": "code",
   "execution_count": 45,
   "id": "75a2e345",
   "metadata": {},
   "outputs": [
    {
     "name": "stdout",
     "output_type": "stream",
     "text": [
      "{'a': 10, 'b': 200, 'c': 30, 'd': 400}\n"
     ]
    }
   ],
   "source": [
    "# d.update(<obj>) - merges a dictionary with another dictionary or with an iterable of key-value pairs\n",
    "\n",
    "    # If <obj> is a dictionary, d.update(<obj>) merges the entries from <obj> into d. For each key in <obj>:\n",
    "\n",
    "    # If the key is not present in d, the key-value pair from <obj> is added to d.\n",
    "    # If the key is already present in d, the corresponding value in d for that key is updated to the value from <obj>.\n",
    "    \n",
    "\n",
    "d1 = {'a': 10, 'b': 20, 'c': 30}\n",
    "d2 = {'b': 200, 'd': 400}\n",
    "\n",
    "d1.update(d2)\n",
    "print(d1)"
   ]
  },
  {
   "cell_type": "code",
   "execution_count": 46,
   "id": "67a1409c",
   "metadata": {},
   "outputs": [
    {
     "name": "stdout",
     "output_type": "stream",
     "text": [
      "{'a': 10, 'b': 200, 'c': 30, 'd': 400, 'e': 350, 'f': 450}\n"
     ]
    }
   ],
   "source": [
    "# Or the values to merge can be specified as a list of keyword arguments:\n",
    "\n",
    "d1.update(e=350, f=450)\n",
    "print(d1)"
   ]
  },
  {
   "cell_type": "code",
   "execution_count": 34,
   "id": "cbc4eeb7",
   "metadata": {},
   "outputs": [
    {
     "name": "stdout",
     "output_type": "stream",
     "text": [
      "{42: 'aaa', 2.78: 'bbb', True: 'ccc'}\n",
      "aaa\n",
      "None\n",
      "No match fount\n"
     ]
    }
   ],
   "source": [
    "# d.get(<key>[, <default>])\n",
    "\n",
    "print(my_dict)            # print the actual dictionary\n",
    "print(my_dict.get(42))    # get the value for the key '42'\n",
    "print(my_dict.get(44))    # if the passed key is not available, get() returns None by default\n",
    "print(my_dict.get(44, \"No match fount\"))  # we can override the default with our custom values/words"
   ]
  },
  {
   "cell_type": "code",
   "execution_count": 35,
   "id": "f7f9cb00",
   "metadata": {},
   "outputs": [
    {
     "data": {
      "text/plain": [
       "False"
      ]
     },
     "execution_count": 35,
     "metadata": {},
     "output_type": "execute_result"
    }
   ],
   "source": [
    "# Membership\n",
    "\"42\" in my_dict"
   ]
  },
  {
   "cell_type": "code",
   "execution_count": 36,
   "id": "863c31e4",
   "metadata": {},
   "outputs": [
    {
     "data": {
      "text/plain": [
       "False"
      ]
     },
     "execution_count": 36,
     "metadata": {},
     "output_type": "execute_result"
    }
   ],
   "source": [
    "# The list values inside the tuple can not be checked directly using tuple name\n",
    "\"45\" in my_dict"
   ]
  },
  {
   "cell_type": "code",
   "execution_count": 39,
   "id": "022872a1",
   "metadata": {},
   "outputs": [
    {
     "name": "stdout",
     "output_type": "stream",
     "text": [
      "{'a': 10, 'b': 20, 'c': 30}\n",
      "[('a', 10), ('b', 20), ('c', 30)]\n",
      "b\n",
      "20\n"
     ]
    }
   ],
   "source": [
    "# d.items() - returns a list of key-value pairs in a dictionary\n",
    "\n",
    "d = {'a': 10, 'b': 20, 'c': 30}\n",
    "print(d)\n",
    "\n",
    "print(list(d.items()))\n",
    "print(list(d.items())[1][0])\n",
    "print(list(d.items())[1][1])"
   ]
  },
  {
   "cell_type": "code",
   "execution_count": 42,
   "id": "181fbe65",
   "metadata": {},
   "outputs": [
    {
     "name": "stdout",
     "output_type": "stream",
     "text": [
      "{'a': 10, 'b': 20, 'c': 30}\n",
      "dict_keys(['a', 'b', 'c'])\n",
      "['a', 'b', 'c']\n"
     ]
    }
   ],
   "source": [
    "# d.keys() - returns a list of all keys \n",
    "\n",
    "d = {'a': 10, 'b': 20, 'c': 30}\n",
    "print(d)\n",
    "\n",
    "print(d.keys())\n",
    "print(list(d.keys()))"
   ]
  },
  {
   "cell_type": "code",
   "execution_count": 43,
   "id": "ee5b4ef9",
   "metadata": {},
   "outputs": [
    {
     "name": "stdout",
     "output_type": "stream",
     "text": [
      "{'a': 10, 'b': 20, 'c': 30}\n",
      "dict_values([10, 20, 30])\n",
      "[10, 20, 30]\n"
     ]
    }
   ],
   "source": [
    "# d.values() - returns a list of values in a dictionary.\n",
    "\n",
    "d = {'a': 10, 'b': 20, 'c': 30}\n",
    "print(d)\n",
    "\n",
    "print(d.values())\n",
    "print(list(d.values()))"
   ]
  },
  {
   "cell_type": "code",
   "execution_count": 47,
   "id": "ae5b41eb",
   "metadata": {},
   "outputs": [
    {
     "name": "stdout",
     "output_type": "stream",
     "text": [
      "{'a': 10, 'c': 30}\n"
     ]
    }
   ],
   "source": [
    "# d.pop(<key>[, <default>]) - removes a key from a dictionary, if it is present, and returns its value.\n",
    "\n",
    "d = {'a': 10, 'b': 20, 'c': 30}\n",
    "\n",
    "d.pop('b')\n",
    "print(d)"
   ]
  },
  {
   "cell_type": "code",
   "execution_count": 48,
   "id": "04f6878a",
   "metadata": {},
   "outputs": [
    {
     "ename": "KeyError",
     "evalue": "'z'",
     "output_type": "error",
     "traceback": [
      "\u001b[1;31m---------------------------------------------------------------------------\u001b[0m",
      "\u001b[1;31mKeyError\u001b[0m                                  Traceback (most recent call last)",
      "\u001b[1;32m<ipython-input-48-e2130c4e4fb4>\u001b[0m in \u001b[0;36m<module>\u001b[1;34m\u001b[0m\n\u001b[0;32m      1\u001b[0m \u001b[1;31m# d.pop(<key>) raises a KeyError exception if <key> is not in d:\u001b[0m\u001b[1;33m\u001b[0m\u001b[1;33m\u001b[0m\u001b[1;33m\u001b[0m\u001b[0m\n\u001b[0;32m      2\u001b[0m \u001b[1;33m\u001b[0m\u001b[0m\n\u001b[1;32m----> 3\u001b[1;33m \u001b[0md\u001b[0m\u001b[1;33m.\u001b[0m\u001b[0mpop\u001b[0m\u001b[1;33m(\u001b[0m\u001b[1;34m'z'\u001b[0m\u001b[1;33m)\u001b[0m\u001b[1;33m\u001b[0m\u001b[1;33m\u001b[0m\u001b[0m\n\u001b[0m",
      "\u001b[1;31mKeyError\u001b[0m: 'z'"
     ]
    }
   ],
   "source": [
    "# d.pop(<key>) raises a KeyError exception if <key> is not in d:\n",
    "\n",
    "d.pop('z')"
   ]
  },
  {
   "cell_type": "code",
   "execution_count": 49,
   "id": "80b78818",
   "metadata": {},
   "outputs": [
    {
     "data": {
      "text/plain": [
       "-1"
      ]
     },
     "execution_count": 49,
     "metadata": {},
     "output_type": "execute_result"
    }
   ],
   "source": [
    "# If <key> is not in d, and the optional <default> argument is specified, \n",
    "# then that value is returned, and no exception is raised\n",
    "\n",
    "d.pop('z', -1)"
   ]
  },
  {
   "cell_type": "code",
   "execution_count": 51,
   "id": "2a71d1e8",
   "metadata": {},
   "outputs": [
    {
     "name": "stdout",
     "output_type": "stream",
     "text": [
      "{'a': 10, 'b': 20, 'c': 30}\n",
      "{'a': 10, 'b': 20}\n",
      "{'a': 10}\n"
     ]
    }
   ],
   "source": [
    "# d.popitem() - removes a key-value pair from a dictionary.\n",
    "\n",
    "d = {'a': 10, 'b': 20, 'c': 30}\n",
    "print(d)\n",
    "\n",
    "d.popitem()\n",
    "print(d)\n",
    "\n",
    "d.popitem()\n",
    "print(d)"
   ]
  },
  {
   "cell_type": "code",
   "execution_count": 52,
   "id": "7804bf8a",
   "metadata": {},
   "outputs": [
    {
     "ename": "KeyError",
     "evalue": "'popitem(): dictionary is empty'",
     "output_type": "error",
     "traceback": [
      "\u001b[1;31m---------------------------------------------------------------------------\u001b[0m",
      "\u001b[1;31mKeyError\u001b[0m                                  Traceback (most recent call last)",
      "\u001b[1;32m<ipython-input-52-4e98ebb8e453>\u001b[0m in \u001b[0;36m<module>\u001b[1;34m\u001b[0m\n\u001b[0;32m      2\u001b[0m \u001b[1;33m\u001b[0m\u001b[0m\n\u001b[0;32m      3\u001b[0m \u001b[0md\u001b[0m \u001b[1;33m=\u001b[0m \u001b[1;33m{\u001b[0m\u001b[1;33m}\u001b[0m\u001b[1;33m\u001b[0m\u001b[1;33m\u001b[0m\u001b[0m\n\u001b[1;32m----> 4\u001b[1;33m \u001b[0md\u001b[0m\u001b[1;33m.\u001b[0m\u001b[0mpopitem\u001b[0m\u001b[1;33m(\u001b[0m\u001b[1;33m)\u001b[0m\u001b[1;33m\u001b[0m\u001b[1;33m\u001b[0m\u001b[0m\n\u001b[0m",
      "\u001b[1;31mKeyError\u001b[0m: 'popitem(): dictionary is empty'"
     ]
    }
   ],
   "source": [
    "# If d is empty, d.popitem() raises a KeyError exception:\n",
    "\n",
    "d = {}\n",
    "d.popitem()"
   ]
  },
  {
   "cell_type": "code",
   "execution_count": null,
   "id": "b3474d20",
   "metadata": {},
   "outputs": [],
   "source": []
  }
 ],
 "metadata": {
  "kernelspec": {
   "display_name": "Python 3",
   "language": "python",
   "name": "python3"
  },
  "language_info": {
   "codemirror_mode": {
    "name": "ipython",
    "version": 3
   },
   "file_extension": ".py",
   "mimetype": "text/x-python",
   "name": "python",
   "nbconvert_exporter": "python",
   "pygments_lexer": "ipython3",
   "version": "3.8.8"
  }
 },
 "nbformat": 4,
 "nbformat_minor": 5
}
