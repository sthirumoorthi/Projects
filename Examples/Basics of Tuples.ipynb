{
 "cells": [
  {
   "cell_type": "markdown",
   "id": "2e93e2ab",
   "metadata": {},
   "source": [
    "## Definition"
   ]
  },
  {
   "cell_type": "markdown",
   "id": "b192c787",
   "metadata": {},
   "source": [
    " - A Tuple is a collection of Python objects separated by commas which is **ordered and unchangeable**.\n",
    " - When we say that tuples are ordered, it means that the items have a defined order, and that order will not change\n",
    " - A tuple is similar to a list in terms of indexing, nested objects and repetition but a tuple is immutable unlike lists which are mutable\n",
    " - Tuples are represented in paranthesis **\"( )\"**\n",
    " - Tuples allow **duplicates**. Since tuples are indexed, they can have items with same value"
   ]
  },
  {
   "cell_type": "markdown",
   "id": "1bb46604",
   "metadata": {},
   "source": [
    "#### Creation of tuples"
   ]
  },
  {
   "cell_type": "code",
   "execution_count": 31,
   "id": "97b7e554",
   "metadata": {},
   "outputs": [
    {
     "name": "stdout",
     "output_type": "stream",
     "text": [
      "('apple', 'banana', 'cherry')\n"
     ]
    }
   ],
   "source": [
    "# Use tuple constructor to create new tuple\n",
    "\n",
    "this_tuple = tuple((\"apple\", \"banana\", \"cherry\"))\n",
    "print(this_tuple)"
   ]
  },
  {
   "cell_type": "code",
   "execution_count": 32,
   "id": "9bc1de18",
   "metadata": {},
   "outputs": [
    {
     "name": "stdout",
     "output_type": "stream",
     "text": [
      "('tamil', 'english', 'maths', 'science')\n"
     ]
    }
   ],
   "source": [
    "# Use paranthesis to create tuples\n",
    "\n",
    "my_tuple = (\"tamil\", \"english\", \"maths\", \"science\")\n",
    "print(my_tuple)"
   ]
  },
  {
   "cell_type": "code",
   "execution_count": 33,
   "id": "a233455b",
   "metadata": {},
   "outputs": [
    {
     "name": "stdout",
     "output_type": "stream",
     "text": [
      "('a', 'b', 'c', 'd')\n"
     ]
    }
   ],
   "source": [
    "# Tuples can be created without the paranthesis. But it is recommended to have paranthesis.\n",
    "\n",
    "new_tuple = \"a\",\"b\",\"c\",\"d\"\n",
    "print(new_tuple)"
   ]
  },
  {
   "cell_type": "code",
   "execution_count": 34,
   "id": "7d50be2f",
   "metadata": {},
   "outputs": [
    {
     "name": "stdout",
     "output_type": "stream",
     "text": [
      "()\n"
     ]
    }
   ],
   "source": [
    "# Empty tuple\n",
    "empty_tuple = ()\n",
    "print(empty_tuple)"
   ]
  },
  {
   "cell_type": "code",
   "execution_count": 35,
   "id": "e510f4f6",
   "metadata": {},
   "outputs": [
    {
     "name": "stdout",
     "output_type": "stream",
     "text": [
      "<class 'tuple'>\n",
      "<class 'str'>\n"
     ]
    }
   ],
   "source": [
    "# Tuple with only one element\n",
    "\n",
    "one_tuple = (\"Thiru\",)     # remember to put comma; otherwise the interpreter will consider it as ordinary value\n",
    "print(type(one_tuple))\n",
    "\n",
    "one_tuple = (\"Moorthi\")\n",
    "print(type(one_tuple))"
   ]
  },
  {
   "cell_type": "markdown",
   "id": "edc859bc",
   "metadata": {},
   "source": [
    "#### Updation of tuples"
   ]
  },
  {
   "cell_type": "markdown",
   "id": "bf2f1424",
   "metadata": {},
   "source": [
    "Values in any tuple **cannot be updated**."
   ]
  },
  {
   "cell_type": "code",
   "execution_count": 37,
   "id": "0ad64253",
   "metadata": {
    "scrolled": true
   },
   "outputs": [
    {
     "ename": "TypeError",
     "evalue": "'tuple' object does not support item assignment",
     "output_type": "error",
     "traceback": [
      "\u001b[1;31m---------------------------------------------------------------------------\u001b[0m",
      "\u001b[1;31mTypeError\u001b[0m                                 Traceback (most recent call last)",
      "\u001b[1;32m<ipython-input-37-f1c38524bdd9>\u001b[0m in \u001b[0;36m<module>\u001b[1;34m\u001b[0m\n\u001b[0;32m      1\u001b[0m \u001b[0mtup1\u001b[0m \u001b[1;33m=\u001b[0m \u001b[1;33m(\u001b[0m\u001b[1;36m1\u001b[0m\u001b[1;33m,\u001b[0m \u001b[1;36m2\u001b[0m\u001b[1;33m,\u001b[0m \u001b[1;36m3\u001b[0m\u001b[1;33m)\u001b[0m\u001b[1;33m\u001b[0m\u001b[1;33m\u001b[0m\u001b[0m\n\u001b[1;32m----> 2\u001b[1;33m \u001b[0mtup1\u001b[0m\u001b[1;33m[\u001b[0m\u001b[1;36m2\u001b[0m\u001b[1;33m]\u001b[0m \u001b[1;33m=\u001b[0m \u001b[1;34m\"Thiru\"\u001b[0m\u001b[1;33m\u001b[0m\u001b[1;33m\u001b[0m\u001b[0m\n\u001b[0m",
      "\u001b[1;31mTypeError\u001b[0m: 'tuple' object does not support item assignment"
     ]
    }
   ],
   "source": [
    "tup1 = (1, 2, 3)\n",
    "tup1[2] = \"Thiru\""
   ]
  },
  {
   "cell_type": "markdown",
   "id": "a6e7dee2",
   "metadata": {},
   "source": [
    "But we can access these values from tuples and create new tuple with new values or do some manipulation"
   ]
  },
  {
   "cell_type": "code",
   "execution_count": 38,
   "id": "b845b4d2",
   "metadata": {},
   "outputs": [
    {
     "name": "stdout",
     "output_type": "stream",
     "text": [
      "(1, 2, 3, 4, 5, 6)\n"
     ]
    }
   ],
   "source": [
    "tup1 = (1, 2, 3)\n",
    "tup2 = (4, 5, 6)\n",
    "tup3 = tup1 + tup2\n",
    "print(tup3)"
   ]
  },
  {
   "cell_type": "markdown",
   "id": "b0a18687",
   "metadata": {},
   "source": [
    "However, when list is getting defined inside the tuples, they can be changed/updated. <br>\n",
    "For example,"
   ]
  },
  {
   "cell_type": "code",
   "execution_count": 39,
   "id": "ac9843b9",
   "metadata": {},
   "outputs": [
    {
     "name": "stdout",
     "output_type": "stream",
     "text": [
      "Before update: (['a', 'b', 'c'], 34, 33.33, 'Thiru')\n",
      "After update: (['a', 'Nihith', 'c'], 34, 33.33, 'Thiru')\n"
     ]
    }
   ],
   "source": [
    "my_tuple = ([\"a\", \"b\", \"c\"], 34, 33.33, \"Thiru\")\n",
    "print(f\"Before update: {my_tuple}\")\n",
    "\n",
    "my_tuple[0][1] = \"Nihith\"\n",
    "print(f\"After update: {my_tuple}\")"
   ]
  },
  {
   "cell_type": "markdown",
   "id": "e62a378b",
   "metadata": {},
   "source": [
    "#### Remove the tuple"
   ]
  },
  {
   "cell_type": "markdown",
   "id": "1c29c7f3",
   "metadata": {},
   "source": [
    "The elements or items in the tuple **cannot be deleted** as Tuples are immutable."
   ]
  },
  {
   "cell_type": "code",
   "execution_count": 45,
   "id": "df3f88ef",
   "metadata": {},
   "outputs": [
    {
     "ename": "TypeError",
     "evalue": "'tuple' object doesn't support item deletion",
     "output_type": "error",
     "traceback": [
      "\u001b[1;31m---------------------------------------------------------------------------\u001b[0m",
      "\u001b[1;31mTypeError\u001b[0m                                 Traceback (most recent call last)",
      "\u001b[1;32m<ipython-input-45-2a77696174bf>\u001b[0m in \u001b[0;36m<module>\u001b[1;34m\u001b[0m\n\u001b[0;32m      1\u001b[0m \u001b[0mtupl\u001b[0m \u001b[1;33m=\u001b[0m \u001b[1;33m(\u001b[0m\u001b[1;34m\"a\"\u001b[0m\u001b[1;33m,\u001b[0m \u001b[1;34m\"b\"\u001b[0m\u001b[1;33m,\u001b[0m \u001b[1;34m\"c\"\u001b[0m\u001b[1;33m,\u001b[0m \u001b[1;34m\"d\"\u001b[0m\u001b[1;33m)\u001b[0m\u001b[1;33m\u001b[0m\u001b[1;33m\u001b[0m\u001b[0m\n\u001b[1;32m----> 2\u001b[1;33m \u001b[1;32mdel\u001b[0m \u001b[0mtupl\u001b[0m\u001b[1;33m[\u001b[0m\u001b[1;36m3\u001b[0m\u001b[1;33m]\u001b[0m\u001b[1;33m\u001b[0m\u001b[1;33m\u001b[0m\u001b[0m\n\u001b[0m",
      "\u001b[1;31mTypeError\u001b[0m: 'tuple' object doesn't support item deletion"
     ]
    }
   ],
   "source": [
    "tupl = (\"a\", \"b\", \"c\", \"d\")\n",
    "del tupl[3]"
   ]
  },
  {
   "cell_type": "markdown",
   "id": "b2e24729",
   "metadata": {},
   "source": [
    "But the entire tuple can be removed or deleted."
   ]
  },
  {
   "cell_type": "code",
   "execution_count": 46,
   "id": "45eb821f",
   "metadata": {},
   "outputs": [],
   "source": [
    "del tupl"
   ]
  },
  {
   "cell_type": "markdown",
   "id": "1945108b",
   "metadata": {},
   "source": [
    "#### Slicing (accessing) the tuples"
   ]
  },
  {
   "cell_type": "markdown",
   "id": "3dbf24b8",
   "metadata": {},
   "source": [
    "Like the lists, tuples can also be accessed using the \"[ ]\" and using slicing concept"
   ]
  },
  {
   "cell_type": "code",
   "execution_count": 47,
   "id": "73fff9a0",
   "metadata": {},
   "outputs": [
    {
     "name": "stdout",
     "output_type": "stream",
     "text": [
      "Python\n",
      "is\n",
      "my\n",
      "favourite\n",
      "language\n"
     ]
    }
   ],
   "source": [
    "new_tuple = (\"Python\", \"is\", \"my\", \"favourite\", \"language\")\n",
    "print(new_tuple[0])\n",
    "print(new_tuple[1])\n",
    "print(new_tuple[2])\n",
    "print(new_tuple[3])\n",
    "print(new_tuple[4])"
   ]
  },
  {
   "cell_type": "code",
   "execution_count": 48,
   "id": "d0187fe2",
   "metadata": {},
   "outputs": [
    {
     "name": "stdout",
     "output_type": "stream",
     "text": [
      "('Python', 'is', 'my', 'favourite')\n"
     ]
    }
   ],
   "source": [
    "print(new_tuple[0:4])"
   ]
  },
  {
   "cell_type": "code",
   "execution_count": 49,
   "id": "19dd7fd9",
   "metadata": {},
   "outputs": [
    {
     "name": "stdout",
     "output_type": "stream",
     "text": [
      "language\n"
     ]
    }
   ],
   "source": [
    "print(new_tuple[-1])"
   ]
  },
  {
   "cell_type": "code",
   "execution_count": 50,
   "id": "a3259747",
   "metadata": {},
   "outputs": [
    {
     "name": "stdout",
     "output_type": "stream",
     "text": [
      "[45, 50, 48, 60, 70]\n",
      "45\n"
     ]
    }
   ],
   "source": [
    "# Nested tuples\n",
    "nest_tuples = (\"scores\",\"on\", 22, [45, 50, 48, 60, 70])\n",
    "print(nest_tuples[3])\n",
    "print(nest_tuples[3][0])"
   ]
  },
  {
   "cell_type": "markdown",
   "id": "21d377b6",
   "metadata": {},
   "source": [
    "## Operations on Tuples"
   ]
  },
  {
   "cell_type": "markdown",
   "id": "070792d2",
   "metadata": {},
   "source": [
    "- Length\n",
    "- Concatenation (+)\n",
    "- Repetition (*)\n",
    "- Membership (in / not in)\n",
    "- Iterative statements\n",
    "- Maximum\n",
    "- Minimum\n",
    "- Index\n",
    "- Count\n",
    "- Conversion to tuples"
   ]
  },
  {
   "cell_type": "code",
   "execution_count": 51,
   "id": "e4363486",
   "metadata": {},
   "outputs": [
    {
     "name": "stdout",
     "output_type": "stream",
     "text": [
      "(['a', 'Nihith', 'c'], 34, 33.33, 'Thiru')\n",
      "Length of my tuple is 4\n"
     ]
    }
   ],
   "source": [
    "# to find length of tuple\n",
    "print(my_tuple)\n",
    "print(f\"Length of my tuple is {len(my_tuple)}\")"
   ]
  },
  {
   "cell_type": "code",
   "execution_count": 52,
   "id": "5de2cb0d",
   "metadata": {},
   "outputs": [
    {
     "name": "stdout",
     "output_type": "stream",
     "text": [
      "(1, 2, 3, 4, 5, 6)\n"
     ]
    }
   ],
   "source": [
    "# Concatenation\n",
    "tup3 = tup1 + tup2\n",
    "print(tup3)"
   ]
  },
  {
   "cell_type": "code",
   "execution_count": 53,
   "id": "cbc4eeb7",
   "metadata": {},
   "outputs": [
    {
     "name": "stdout",
     "output_type": "stream",
     "text": [
      "(1, 2, 3, 1, 2, 3)\n"
     ]
    }
   ],
   "source": [
    "# Repetition\n",
    "tup1 = tup1 * 2\n",
    "print(tup1)"
   ]
  },
  {
   "cell_type": "code",
   "execution_count": 59,
   "id": "f7f9cb00",
   "metadata": {},
   "outputs": [
    {
     "data": {
      "text/plain": [
       "True"
      ]
     },
     "execution_count": 59,
     "metadata": {},
     "output_type": "execute_result"
    }
   ],
   "source": [
    "# Membership\n",
    "\"Thiru\" in my_tuple"
   ]
  },
  {
   "cell_type": "code",
   "execution_count": 57,
   "id": "863c31e4",
   "metadata": {},
   "outputs": [
    {
     "data": {
      "text/plain": [
       "False"
      ]
     },
     "execution_count": 57,
     "metadata": {},
     "output_type": "execute_result"
    }
   ],
   "source": [
    "# The list values inside the tuple can not be checked directly using tuple name\n",
    "\"Nihith\" in my_tuple"
   ]
  },
  {
   "cell_type": "code",
   "execution_count": 60,
   "id": "022872a1",
   "metadata": {},
   "outputs": [
    {
     "name": "stdout",
     "output_type": "stream",
     "text": [
      "['a', 'Nihith', 'c']\n",
      "34\n",
      "33.33\n",
      "Thiru\n"
     ]
    }
   ],
   "source": [
    "# Iterative statements\n",
    "for item in my_tuple:\n",
    "    print(item)"
   ]
  },
  {
   "cell_type": "code",
   "execution_count": 61,
   "id": "181fbe65",
   "metadata": {},
   "outputs": [
    {
     "name": "stdout",
     "output_type": "stream",
     "text": [
      "6\n",
      "1\n"
     ]
    }
   ],
   "source": [
    "# Maximum and Minimum\n",
    "print(max(tup3))\n",
    "print(min(tup3))"
   ]
  },
  {
   "cell_type": "code",
   "execution_count": 63,
   "id": "ee5b4ef9",
   "metadata": {},
   "outputs": [
    {
     "ename": "TypeError",
     "evalue": "'>' not supported between instances of 'int' and 'list'",
     "output_type": "error",
     "traceback": [
      "\u001b[1;31m---------------------------------------------------------------------------\u001b[0m",
      "\u001b[1;31mTypeError\u001b[0m                                 Traceback (most recent call last)",
      "\u001b[1;32m<ipython-input-63-e82cc66d14dd>\u001b[0m in \u001b[0;36m<module>\u001b[1;34m\u001b[0m\n\u001b[0;32m      1\u001b[0m \u001b[1;31m# Max or Min can not be used when the tuples have mixed type values or list/dict\u001b[0m\u001b[1;33m\u001b[0m\u001b[1;33m\u001b[0m\u001b[1;33m\u001b[0m\u001b[0m\n\u001b[1;32m----> 2\u001b[1;33m \u001b[0mprint\u001b[0m\u001b[1;33m(\u001b[0m\u001b[0mmax\u001b[0m\u001b[1;33m(\u001b[0m\u001b[0mmy_tuple\u001b[0m\u001b[1;33m)\u001b[0m\u001b[1;33m)\u001b[0m\u001b[1;33m\u001b[0m\u001b[1;33m\u001b[0m\u001b[0m\n\u001b[0m",
      "\u001b[1;31mTypeError\u001b[0m: '>' not supported between instances of 'int' and 'list'"
     ]
    }
   ],
   "source": [
    "# Max or Min can not be used when the tuples have mixed type values or list/dict\n",
    "print(max(my_tuple))"
   ]
  },
  {
   "cell_type": "code",
   "execution_count": 64,
   "id": "50e7f569",
   "metadata": {},
   "outputs": [
    {
     "data": {
      "text/plain": [
       "3"
      ]
     },
     "execution_count": 64,
     "metadata": {},
     "output_type": "execute_result"
    }
   ],
   "source": [
    "# Index\n",
    "\n",
    "my_tuple.index(\"Thiru\")"
   ]
  },
  {
   "cell_type": "code",
   "execution_count": 67,
   "id": "ff0c3076",
   "metadata": {},
   "outputs": [
    {
     "name": "stdout",
     "output_type": "stream",
     "text": [
      "(1, 2, 3, 1, 2, 3)\n",
      "2\n"
     ]
    }
   ],
   "source": [
    "# Count\n",
    "\n",
    "print(tup1)\n",
    "print(tup1.count(1))"
   ]
  },
  {
   "cell_type": "code",
   "execution_count": 68,
   "id": "b12db5b3",
   "metadata": {},
   "outputs": [
    {
     "name": "stdout",
     "output_type": "stream",
     "text": [
      "('N', 'i', 'h', 'i', 't', 'h')\n"
     ]
    }
   ],
   "source": [
    "# Conversion to tuple from string\n",
    "\n",
    "this_tuple = tuple(\"Nihith\")\n",
    "print(this_tuple)"
   ]
  },
  {
   "cell_type": "code",
   "execution_count": 70,
   "id": "8fe00bf0",
   "metadata": {},
   "outputs": [
    {
     "name": "stdout",
     "output_type": "stream",
     "text": [
      "(10, 20, 30, 40, 50)\n"
     ]
    }
   ],
   "source": [
    "# Conversion to tuple from list\n",
    "\n",
    "this_list = [10, 20, 30, 40, 50]\n",
    "this_tuple = tuple(this_list)\n",
    "print(this_tuple)"
   ]
  },
  {
   "cell_type": "code",
   "execution_count": null,
   "id": "6f624b83",
   "metadata": {},
   "outputs": [],
   "source": []
  },
  {
   "cell_type": "code",
   "execution_count": null,
   "id": "a3a41e3b",
   "metadata": {},
   "outputs": [],
   "source": []
  },
  {
   "cell_type": "code",
   "execution_count": null,
   "id": "7804bf8a",
   "metadata": {},
   "outputs": [],
   "source": []
  }
 ],
 "metadata": {
  "kernelspec": {
   "display_name": "Python 3",
   "language": "python",
   "name": "python3"
  },
  "language_info": {
   "codemirror_mode": {
    "name": "ipython",
    "version": 3
   },
   "file_extension": ".py",
   "mimetype": "text/x-python",
   "name": "python",
   "nbconvert_exporter": "python",
   "pygments_lexer": "ipython3",
   "version": "3.8.8"
  }
 },
 "nbformat": 4,
 "nbformat_minor": 5
}
