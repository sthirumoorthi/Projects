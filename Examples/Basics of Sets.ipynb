{
 "cells": [
  {
   "cell_type": "markdown",
   "id": "2e93e2ab",
   "metadata": {},
   "source": [
    "## Definition"
   ]
  },
  {
   "cell_type": "markdown",
   "id": "b192c787",
   "metadata": {},
   "source": [
    " - A set is an **unordered and mutable** collection of **unique** elements. \n",
    " - Unordered means that the items in a set do not have a defined order. Set items can appear in a **different order every time** we use them, and cannot be referred to by an index or key\n",
    " - Sets are written with curly brackets ({}), being the elements separated by commas\n",
    " - The elements in the set cannot have **duplicates**"
   ]
  },
  {
   "cell_type": "markdown",
   "id": "1bb46604",
   "metadata": {},
   "source": [
    "#### Creation of Sets"
   ]
  },
  {
   "cell_type": "code",
   "execution_count": 2,
   "id": "97b7e554",
   "metadata": {},
   "outputs": [
    {
     "name": "stdout",
     "output_type": "stream",
     "text": [
      "{'apple', 'cherry', 'banana'}\n"
     ]
    }
   ],
   "source": [
    "# Use set constructor to create new set\n",
    "\n",
    "this_set = set((\"apple\", \"banana\", \"cherry\",\"apple\"))\n",
    "print(this_set)"
   ]
  },
  {
   "cell_type": "code",
   "execution_count": 3,
   "id": "9bc1de18",
   "metadata": {},
   "outputs": [
    {
     "name": "stdout",
     "output_type": "stream",
     "text": [
      "{'maths', 'tamil', 'science', 'english'}\n"
     ]
    }
   ],
   "source": [
    "# Use paranthesis to create sets. \n",
    "\n",
    "my_set = {\"tamil\", \"english\", \"maths\", \"science\"}\n",
    "print(my_set)"
   ]
  },
  {
   "cell_type": "code",
   "execution_count": 5,
   "id": "7d50be2f",
   "metadata": {},
   "outputs": [
    {
     "name": "stdout",
     "output_type": "stream",
     "text": [
      "<class 'dict'>\n"
     ]
    }
   ],
   "source": [
    "# Empty set can be created only with the set() constructor. Below code will only create empty dictionary.\n",
    "# We will need at least one element to create a set in the below scenario\n",
    "\n",
    "empty_set = {}\n",
    "print(type(empty_set))"
   ]
  },
  {
   "cell_type": "markdown",
   "id": "2e7bfa44",
   "metadata": {},
   "source": [
    "#### Adding elements to set"
   ]
  },
  {
   "cell_type": "code",
   "execution_count": 6,
   "id": "c99982d9",
   "metadata": {},
   "outputs": [
    {
     "name": "stdout",
     "output_type": "stream",
     "text": [
      "{1, 2, 3, 4, 'Thiru'}\n"
     ]
    }
   ],
   "source": [
    "tup1 = {1, 2, 3, 4}\n",
    "tup1.add(\"Thiru\")\n",
    "print(tup1)"
   ]
  },
  {
   "cell_type": "code",
   "execution_count": 7,
   "id": "63c0e9cd",
   "metadata": {},
   "outputs": [
    {
     "ename": "TypeError",
     "evalue": "unhashable type: 'list'",
     "output_type": "error",
     "traceback": [
      "\u001b[1;31m---------------------------------------------------------------------------\u001b[0m",
      "\u001b[1;31mTypeError\u001b[0m                                 Traceback (most recent call last)",
      "\u001b[1;32m<ipython-input-7-684db6534cb5>\u001b[0m in \u001b[0;36m<module>\u001b[1;34m\u001b[0m\n\u001b[1;32m----> 1\u001b[1;33m \u001b[0mtup1\u001b[0m\u001b[1;33m.\u001b[0m\u001b[0madd\u001b[0m\u001b[1;33m(\u001b[0m\u001b[1;33m[\u001b[0m\u001b[1;34m'a'\u001b[0m\u001b[1;33m,\u001b[0m\u001b[1;34m'b'\u001b[0m\u001b[1;33m,\u001b[0m\u001b[1;34m'c'\u001b[0m\u001b[1;33m]\u001b[0m\u001b[1;33m)\u001b[0m\u001b[1;33m\u001b[0m\u001b[1;33m\u001b[0m\u001b[0m\n\u001b[0m",
      "\u001b[1;31mTypeError\u001b[0m: unhashable type: 'list'"
     ]
    }
   ],
   "source": [
    "# List cannot be added to set due to its nature (sets are unordered and will hold unique values)\n",
    "# sets will try to find out the uniquness b/w primitive data types (int, float, str) and other data types (list, tuples). \n",
    "# So we can't add list inside the sets\n",
    "\n",
    "tup1.add(['a','b','c'])"
   ]
  },
  {
   "cell_type": "code",
   "execution_count": 12,
   "id": "d3d3388b",
   "metadata": {},
   "outputs": [
    {
     "name": "stdout",
     "output_type": "stream",
     "text": [
      "{1, 2, 4, 5, ('a', 'b')}\n"
     ]
    }
   ],
   "source": [
    "# tuples can be added inside the set\n",
    "set1 = {1, ('a','b'), 2, 2, 4, 5}\n",
    "print(set1)"
   ]
  },
  {
   "cell_type": "code",
   "execution_count": 13,
   "id": "eacc55cd",
   "metadata": {},
   "outputs": [
    {
     "name": "stdout",
     "output_type": "stream",
     "text": [
      "{1, 2, 4, 5, ('a', 'b')}\n"
     ]
    }
   ],
   "source": [
    "# duplicate tuples can also be removed in the sets\n",
    "set1 = {1, ('a','b'), 2, 2, ('a','b'), 4, 5}\n",
    "print(set1)"
   ]
  },
  {
   "cell_type": "markdown",
   "id": "edc859bc",
   "metadata": {},
   "source": [
    "#### Updation of sets"
   ]
  },
  {
   "cell_type": "code",
   "execution_count": 15,
   "id": "0ad64253",
   "metadata": {
    "scrolled": true
   },
   "outputs": [
    {
     "name": "stdout",
     "output_type": "stream",
     "text": [
      "{1, 2, 3, 4, 5}\n"
     ]
    }
   ],
   "source": [
    "set1 = {1, 2, 3}\n",
    "set2 = {3, 4, 5}\n",
    "set1.update(set2)\n",
    "\n",
    "print(set1)"
   ]
  },
  {
   "cell_type": "markdown",
   "id": "e62a378b",
   "metadata": {},
   "source": [
    "#### Remove elements from Set"
   ]
  },
  {
   "cell_type": "code",
   "execution_count": 16,
   "id": "df3f88ef",
   "metadata": {},
   "outputs": [
    {
     "name": "stdout",
     "output_type": "stream",
     "text": [
      "Original set: {1, 2, 3, 4, 5, 8, 12, 18}\n",
      "Modified set: {1, 2, 3, 4, 5, 12, 18}\n"
     ]
    }
   ],
   "source": [
    "# Remove single element from the set\n",
    "\n",
    "my_set = {1, 2, 3, 4, 5, 8, 12, 18}\n",
    "print(f\"Original set: {my_set}\")\n",
    "\n",
    "my_set.remove(8)\n",
    "print(f\"Modified set: {my_set}\")"
   ]
  },
  {
   "cell_type": "markdown",
   "id": "b2e24729",
   "metadata": {},
   "source": [
    "If we call the remove() function to delete an element that does not exist in the set, then it will raise KeyError."
   ]
  },
  {
   "cell_type": "code",
   "execution_count": 17,
   "id": "45eb821f",
   "metadata": {},
   "outputs": [],
   "source": [
    "# If we try to delete the element (using discard function) which is not available in the set, it will not return error.\n",
    "my_set.discard(16)"
   ]
  },
  {
   "cell_type": "code",
   "execution_count": 27,
   "id": "e15699f8",
   "metadata": {},
   "outputs": [
    {
     "name": "stdout",
     "output_type": "stream",
     "text": [
      "Original set: {1, 2, 3, 4, 5, 8, 12, 18}\n",
      "Modified set: {3, 5, 8, 12, 18}\n"
     ]
    }
   ],
   "source": [
    "my_set = {1, 2, 3, 4, 5, 8, 12, 18}\n",
    "print(f\"Original set: {my_set}\")\n",
    "\n",
    "# Elements to be deleted\n",
    "to_delete = {1, 2, 4}\n",
    "\n",
    "# Remove all elements of list from the set\n",
    "my_set.difference_update(to_delete)\n",
    "print(f\"Modified set: {my_set}\")"
   ]
  },
  {
   "cell_type": "code",
   "execution_count": 28,
   "id": "a4df0d51",
   "metadata": {},
   "outputs": [
    {
     "name": "stdout",
     "output_type": "stream",
     "text": [
      "{5, 8, 12, 18}\n"
     ]
    }
   ],
   "source": [
    "# Pop will remove the first element from the set\n",
    "my_set.pop()\n",
    "print(my_set)"
   ]
  },
  {
   "cell_type": "markdown",
   "id": "21d377b6",
   "metadata": {},
   "source": [
    "## Operations on Tuples"
   ]
  },
  {
   "cell_type": "markdown",
   "id": "070792d2",
   "metadata": {},
   "source": [
    "- Length\n",
    "- Clear\n",
    "- Membership (in / not in)\n",
    "- Iterative statements\n",
    "- Maximum\n",
    "- Minimum\n",
    "- Conversion to tuples"
   ]
  },
  {
   "cell_type": "code",
   "execution_count": 24,
   "id": "e4363486",
   "metadata": {},
   "outputs": [
    {
     "name": "stdout",
     "output_type": "stream",
     "text": [
      "{3, 5, 8, 12, 18}\n",
      "Length of my tuple is 5\n"
     ]
    }
   ],
   "source": [
    "# to find length of tuple\n",
    "print(my_set)\n",
    "print(f\"Length of my tuple is {len(my_set)}\")"
   ]
  },
  {
   "cell_type": "code",
   "execution_count": 31,
   "id": "5de2cb0d",
   "metadata": {},
   "outputs": [
    {
     "name": "stdout",
     "output_type": "stream",
     "text": [
      "{1, 2, 3, 4}\n",
      "set()\n"
     ]
    }
   ],
   "source": [
    "# Clear the set\n",
    "set1 = {1, 2, 3, 4}\n",
    "print(set1)\n",
    "\n",
    "set1.clear()\n",
    "print(set1)"
   ]
  },
  {
   "cell_type": "code",
   "execution_count": 35,
   "id": "f7f9cb00",
   "metadata": {},
   "outputs": [
    {
     "name": "stdout",
     "output_type": "stream",
     "text": [
      "{'Thiru', 'Nihith'}\n"
     ]
    },
    {
     "data": {
      "text/plain": [
       "True"
      ]
     },
     "execution_count": 35,
     "metadata": {},
     "output_type": "execute_result"
    }
   ],
   "source": [
    "# Membership\n",
    "set2 = {\"Thiru\", \"Nihith\"}\n",
    "print(set2)\n",
    "\n",
    "\"Thiru\" in set2"
   ]
  },
  {
   "cell_type": "code",
   "execution_count": 36,
   "id": "022872a1",
   "metadata": {},
   "outputs": [
    {
     "name": "stdout",
     "output_type": "stream",
     "text": [
      "5\n",
      "8\n",
      "12\n",
      "18\n"
     ]
    }
   ],
   "source": [
    "# Iterative statements\n",
    "for item in my_set:\n",
    "    print(item)"
   ]
  },
  {
   "cell_type": "code",
   "execution_count": 37,
   "id": "181fbe65",
   "metadata": {},
   "outputs": [
    {
     "name": "stdout",
     "output_type": "stream",
     "text": [
      "18\n",
      "5\n"
     ]
    }
   ],
   "source": [
    "# Maximum and Minimum\n",
    "print(max(my_set))\n",
    "print(min(my_set))"
   ]
  },
  {
   "cell_type": "code",
   "execution_count": 41,
   "id": "b12db5b3",
   "metadata": {},
   "outputs": [
    {
     "name": "stdout",
     "output_type": "stream",
     "text": [
      "{'h', 'N', 'i', 't'}\n"
     ]
    }
   ],
   "source": [
    "# Conversion to set from string. But it will remove the duplicates\n",
    "\n",
    "this_set = set(\"Nihith\")\n",
    "print(this_set)"
   ]
  },
  {
   "cell_type": "code",
   "execution_count": 42,
   "id": "8fe00bf0",
   "metadata": {},
   "outputs": [
    {
     "name": "stdout",
     "output_type": "stream",
     "text": [
      "{40, 10, 50, 20, 30}\n"
     ]
    }
   ],
   "source": [
    "# Conversion to set from list\n",
    "\n",
    "this_list = [10, 20, 30, 40, 50]\n",
    "this_set = set(this_list)\n",
    "print(this_set)"
   ]
  },
  {
   "cell_type": "code",
   "execution_count": null,
   "id": "6f624b83",
   "metadata": {},
   "outputs": [],
   "source": []
  },
  {
   "cell_type": "code",
   "execution_count": null,
   "id": "a3a41e3b",
   "metadata": {},
   "outputs": [],
   "source": []
  },
  {
   "cell_type": "code",
   "execution_count": null,
   "id": "7804bf8a",
   "metadata": {},
   "outputs": [],
   "source": []
  }
 ],
 "metadata": {
  "kernelspec": {
   "display_name": "Python 3 (ipykernel)",
   "language": "python",
   "name": "python3"
  },
  "language_info": {
   "codemirror_mode": {
    "name": "ipython",
    "version": 3
   },
   "file_extension": ".py",
   "mimetype": "text/x-python",
   "name": "python",
   "nbconvert_exporter": "python",
   "pygments_lexer": "ipython3",
   "version": "3.9.7"
  }
 },
 "nbformat": 4,
 "nbformat_minor": 5
}
